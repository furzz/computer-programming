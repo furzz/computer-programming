{
 "cells": [
  {
   "cell_type": "code",
   "execution_count": 4,
   "id": "767a0baf",
   "metadata": {},
   "outputs": [
    {
     "name": "stdout",
     "output_type": "stream",
     "text": [
      "30\n"
     ]
    }
   ],
   "source": [
    "x = 10\n",
    "y = 20\n",
    "\n",
    "z = x + y\n",
    "\n",
    "print (z)"
   ]
  },
  {
   "cell_type": "code",
   "execution_count": 5,
   "id": "701ba2b8",
   "metadata": {},
   "outputs": [
    {
     "name": "stdout",
     "output_type": "stream",
     "text": [
      "0.5\n"
     ]
    }
   ],
   "source": [
    "x = 10\n",
    "y = 20\n",
    "\n",
    "z = x / y\n",
    "\n",
    "print (z)"
   ]
  },
  {
   "cell_type": "code",
   "execution_count": 6,
   "id": "a5e5bead",
   "metadata": {},
   "outputs": [
    {
     "data": {
      "text/plain": [
       "int"
      ]
     },
     "execution_count": 6,
     "metadata": {},
     "output_type": "execute_result"
    }
   ],
   "source": [
    "x= 10\n",
    "y= 20\n",
    "\n",
    "type(x)"
   ]
  },
  {
   "cell_type": "code",
   "execution_count": 11,
   "id": "a3bb5a2d",
   "metadata": {},
   "outputs": [
    {
     "name": "stdout",
     "output_type": "stream",
     "text": [
      "haiyaaaaa\n"
     ]
    }
   ],
   "source": [
    "x= 10\n",
    "y= 20\n",
    "\n",
    "if x == 10 :\n",
    "    print(\"haiyaaaaa\")\n",
    "else:\n",
    "    print(\"okay tq info\")"
   ]
  },
  {
   "cell_type": "code",
   "execution_count": 12,
   "id": "d4d06bc1",
   "metadata": {},
   "outputs": [
    {
     "name": "stdout",
     "output_type": "stream",
     "text": [
      "okay tq info\n"
     ]
    }
   ],
   "source": [
    "x= 10\n",
    "y= 20\n",
    "\n",
    "if isinstance(x, str) :\n",
    "    print(\"haiyaaaaa\")\n",
    "else:\n",
    "    print(\"okay tq info\")"
   ]
  },
  {
   "cell_type": "code",
   "execution_count": 13,
   "id": "d0df1082",
   "metadata": {},
   "outputs": [],
   "source": [
    "x = ['Sara', 'Ahmad', 'Mouna']\n"
   ]
  },
  {
   "cell_type": "code",
   "execution_count": 14,
   "id": "300a8dc9",
   "metadata": {},
   "outputs": [
    {
     "data": {
      "text/plain": [
       "range(0, 1000)"
      ]
     },
     "execution_count": 14,
     "metadata": {},
     "output_type": "execute_result"
    }
   ],
   "source": [
    "range(1000)"
   ]
  },
  {
   "cell_type": "code",
   "execution_count": 15,
   "id": "85947be9",
   "metadata": {},
   "outputs": [],
   "source": [
    "# jdt\n"
   ]
  },
  {
   "cell_type": "code",
   "execution_count": 19,
   "id": "4bedb2e2",
   "metadata": {},
   "outputs": [
    {
     "name": "stdout",
     "output_type": "stream",
     "text": [
      "dict_values(['Sara', 22, 'male'])\n"
     ]
    }
   ],
   "source": [
    "student ={\n",
    "    \"name\":\"Sara\",\n",
    "    \"age\": 22,\n",
    "    \"sex\": \"male\"\n",
    "}\n",
    "\n",
    "print(student.values())"
   ]
  },
  {
   "cell_type": "code",
   "execution_count": 21,
   "id": "0e36d220",
   "metadata": {},
   "outputs": [
    {
     "name": "stdout",
     "output_type": "stream",
     "text": [
      "dict_keys(['name', 'age', 'sex'])\n"
     ]
    }
   ],
   "source": [
    "student ={\n",
    "    \"name\":\"Sara\",\n",
    "    \"age\": 22,\n",
    "    \"sex\": \"male\"\n",
    "}\n",
    "\n",
    "print(student.keys())"
   ]
  },
  {
   "cell_type": "code",
   "execution_count": 22,
   "id": "046dd100",
   "metadata": {},
   "outputs": [
    {
     "name": "stdout",
     "output_type": "stream",
     "text": [
      "{'name': 'Sara', 'age': 22, 'sex': 'male'}\n"
     ]
    }
   ],
   "source": [
    "student ={\n",
    "    \"name\":\"Sara\",\n",
    "    \"age\": 22,\n",
    "    \"sex\": \"male\"\n",
    "}\n",
    "\n",
    "print(student)"
   ]
  },
  {
   "cell_type": "code",
   "execution_count": 23,
   "id": "5661dc09",
   "metadata": {},
   "outputs": [
    {
     "name": "stdout",
     "output_type": "stream",
     "text": [
      "22\n"
     ]
    }
   ],
   "source": [
    "student ={\n",
    "    \"name\":\"Sara\",\n",
    "    \"age\": 22,\n",
    "    \"sex\": \"male\"\n",
    "}\n",
    "\n",
    "print(student[\"age\"])"
   ]
  },
  {
   "cell_type": "code",
   "execution_count": 22,
   "id": "c9766acc",
   "metadata": {},
   "outputs": [
    {
     "name": "stdout",
     "output_type": "stream",
     "text": [
      "30\n",
      "10\n",
      "200\n",
      "2.0\n"
     ]
    }
   ],
   "source": [
    "def sum(a,b):\n",
    "   return a+b\n",
    "\n",
    "def sub(a,b):\n",
    "   return a-b\n",
    "\n",
    "def mult(a,b):\n",
    "   return a*b\n",
    "\n",
    "def divi(a,b):\n",
    "   return a/b\n",
    "\n",
    "print(sum(20,10))\n",
    "print(sub(20,10))\n",
    "print(mult(20,10))\n",
    "print(divi(20,10))"
   ]
  },
  {
   "cell_type": "code",
   "execution_count": 1,
   "id": "3ad98171",
   "metadata": {},
   "outputs": [
    {
     "name": "stdout",
     "output_type": "stream",
     "text": [
      "Please enter the name of the subject:Heat Transfer\n",
      "the subject is available\n"
     ]
    }
   ],
   "source": [
    "subjects = [\"Mass Transfer\",\"Heat Transfer\",\"AddMath\",\"Physics\"]\n",
    "\n",
    "def subject_availability(subject_name):\n",
    "    if(is_available(subject_name)):\n",
    "     return \"the subject is available\"\n",
    "    else:\n",
    "     return \"the subject is available\"\n",
    "\n",
    "\n",
    "\n",
    "def is_available(subject_name):\n",
    "        return subject_name in subjects\n",
    "    \n",
    "input_subject = input(\"Please enter the name of the subject:\")\n",
    "print(subject_availability(input_subject))"
   ]
  },
  {
   "cell_type": "code",
   "execution_count": null,
   "id": "17418e79",
   "metadata": {},
   "outputs": [],
   "source": []
  }
 ],
 "metadata": {
  "kernelspec": {
   "display_name": "Python 3 (ipykernel)",
   "language": "python",
   "name": "python3"
  },
  "language_info": {
   "codemirror_mode": {
    "name": "ipython",
    "version": 3
   },
   "file_extension": ".py",
   "mimetype": "text/x-python",
   "name": "python",
   "nbconvert_exporter": "python",
   "pygments_lexer": "ipython3",
   "version": "3.11.5"
  }
 },
 "nbformat": 4,
 "nbformat_minor": 5
}
