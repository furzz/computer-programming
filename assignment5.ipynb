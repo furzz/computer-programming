{
 "cells": [
  {
   "cell_type": "code",
   "execution_count": 4,
   "id": "730b6634",
   "metadata": {},
   "outputs": [],
   "source": [
    "import csv\n",
    "with open('students.csv', 'r') as file:\n",
    "    csv_reader = csv.reader(file)\n",
    "    filtered_rows = []\n",
    "    \n",
    "    for row in csv_reader:\n",
    "        if row[2] <= 'B':\n",
    "            row.append('Passed')\n",
    "            filtered_rows.append(row)\n",
    "with open('top_students.csv', 'w', newline='') as new_file:\n",
    "    csv_writer = csv.writer(new_file)\n",
    "    csv_writer.writerows(filtered_rows)"
   ]
  },
  {
   "cell_type": "code",
   "execution_count": 6,
   "id": "ec84cdd0",
   "metadata": {},
   "outputs": [
    {
     "name": "stdout",
     "output_type": "stream",
     "text": [
      "Enter the name of a state in Malaysia: ganu\n",
      "ganu is not found in the data.\n"
     ]
    }
   ],
   "source": [
    "import requests\n",
    "\n",
    "api_url = \"https://jian.sh/malaysia-api/state/v1/all.json\"\n",
    "response = requests.get(api_url)\n",
    "malaysia_state_data = response.json()\n",
    "\n",
    "state_populations = {state['state']: state['population'] for state in malaysia_state_data}\n",
    "\n",
    "state_name = input(\"Enter the name of a state in Malaysia: \")\n",
    "\n",
    "population = state_populations.get(state_name.title())\n",
    "\n",
    "if population is not None:\n",
    "    print(f\"The population of {state_name.title()} is {population}\")\n",
    "else:\n",
    "    print(f\"{state_name} is not found in the data.\")"
   ]
  },
  {
   "cell_type": "code",
   "execution_count": null,
   "id": "20108ff2",
   "metadata": {},
   "outputs": [],
   "source": []
  }
 ],
 "metadata": {
  "kernelspec": {
   "display_name": "Python 3 (ipykernel)",
   "language": "python",
   "name": "python3"
  },
  "language_info": {
   "codemirror_mode": {
    "name": "ipython",
    "version": 3
   },
   "file_extension": ".py",
   "mimetype": "text/x-python",
   "name": "python",
   "nbconvert_exporter": "python",
   "pygments_lexer": "ipython3",
   "version": "3.11.5"
  }
 },
 "nbformat": 4,
 "nbformat_minor": 5
}
