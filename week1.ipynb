{
 "cells": [
  {
   "cell_type": "code",
   "execution_count": null,
   "id": "7c1c3a44",
   "metadata": {},
   "outputs": [],
   "source": [
    "grade = int(input()) \n",
    "\n",
    "if grade == \"A\":\n",
    "     print(\"Congratulations!\")\n",
    "elif grade == \"B\":\n",
    "    print(\"Good\")\n",
    "elif grade ==\"C\":\n",
    "    print(\"Pass\")\n",
    "else:\n",
    "    print(\"No such grade in system\")"
   ]
  },
  {
   "cell_type": "code",
   "execution_count": 2,
   "id": "faa26523",
   "metadata": {},
   "outputs": [
    {
     "ename": "NameError",
     "evalue": "name 'grade' is not defined",
     "output_type": "error",
     "traceback": [
      "\u001b[1;31m---------------------------------------------------------------------------\u001b[0m",
      "\u001b[1;31mNameError\u001b[0m                                 Traceback (most recent call last)",
      "Cell \u001b[1;32mIn[2], line 1\u001b[0m\n\u001b[1;32m----> 1\u001b[0m \u001b[38;5;28mprint\u001b[39m (\u001b[38;5;28mtype\u001b[39m(grade))\n",
      "\u001b[1;31mNameError\u001b[0m: name 'grade' is not defined"
     ]
    }
   ],
   "source": [
    "print (type(grade))"
   ]
  },
  {
   "cell_type": "code",
   "execution_count": null,
   "id": "f5b2bf4d",
   "metadata": {},
   "outputs": [],
   "source": [
    "if grade == 100:\n",
    "    print (grade + 10)"
   ]
  },
  {
   "cell_type": "code",
   "execution_count": null,
   "id": "b6202c36",
   "metadata": {},
   "outputs": [],
   "source": []
  }
 ],
 "metadata": {
  "kernelspec": {
   "display_name": "Python 3 (ipykernel)",
   "language": "python",
   "name": "python3"
  },
  "language_info": {
   "codemirror_mode": {
    "name": "ipython",
    "version": 3
   },
   "file_extension": ".py",
   "mimetype": "text/x-python",
   "name": "python",
   "nbconvert_exporter": "python",
   "pygments_lexer": "ipython3",
   "version": "3.11.5"
  }
 },
 "nbformat": 4,
 "nbformat_minor": 5
}
